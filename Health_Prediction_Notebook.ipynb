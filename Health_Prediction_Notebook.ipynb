{
 "cells": [
  {
   "cell_type": "markdown",
   "id": "924a7c1f",
   "metadata": {},
   "source": [
    "# SDG 3 – Good Health and Well-being\n",
    "\n",
    "## Project Title: Predicting Health Outcomes using Machine Learning\n",
    "\n",
    "### Problem Statement\n",
    "This project addresses SDG 3: Good Health and Well-being. The goal is to leverage machine learning to predict the likelihood of a negative health outcome (such as diabetes) based on various medical and demographic features. Early prediction of such outcomes can guide interventions and potentially save lives.\n",
    "\n",
    "### Dataset Source\n",
    "The dataset used includes anonymized patient health records and is assumed to be sourced from a public repository like Kaggle. It contains features such as glucose levels, BMI, age, etc., with the `Outcome` column indicating the presence or absence of a disease.\n",
    "\n",
    "### Machine Learning Approach\n",
    "We apply a supervised learning technique using a Random Forest Classifier. This ensemble method is known for its robustness and ability to handle feature interactions well.\n",
    "\n",
    "---\n"
   ]
  },
  {
   "cell_type": "code",
   "execution_count": 22,
   "id": "bd77a71b-d2ab-4940-a6e1-7675213b828b",
   "metadata": {
    "tags": []
   },
   "outputs": [],
   "source": [
    "import pandas as pd\n",
    "import numpy as np\n",
    "import matplotlib.pyplot as plt\n",
    "import seaborn as sns\n",
    "\n",
    "from sklearn.model_selection import train_test_split\n",
    "from sklearn.ensemble import RandomForestRegressor\n",
    "from sklearn.ensemble import RandomForestClassifier\n",
    "from sklearn.metrics import classification_report, confusion_matrix, accuracy_score\n",
    "from sklearn.metrics import mean_absolute_error, mean_squared_error, r2_score"
   ]
  },
  {
   "cell_type": "code",
   "execution_count": 6,
   "id": "ee0e5bb3-6cb9-46d8-aad8-2881c4641627",
   "metadata": {
    "tags": []
   },
   "outputs": [
    {
     "name": "stdout",
     "output_type": "stream",
     "text": [
      "<class 'pandas.core.frame.DataFrame'>\n",
      "RangeIndex: 1000 entries, 0 to 999\n",
      "Data columns (total 10 columns):\n",
      " #   Column     Non-Null Count  Dtype \n",
      "---  ------     --------------  ----- \n",
      " 0   Gender     1000 non-null   object\n",
      " 1   Age        1000 non-null   int64 \n",
      " 2   NS1        1000 non-null   int64 \n",
      " 3   IgG        1000 non-null   int64 \n",
      " 4   IgM        1000 non-null   int64 \n",
      " 5   Area       1000 non-null   object\n",
      " 6   AreaType   1000 non-null   object\n",
      " 7   HouseType  1000 non-null   object\n",
      " 8   District   1000 non-null   object\n",
      " 9   Outcome    1000 non-null   int64 \n",
      "dtypes: int64(5), object(5)\n",
      "memory usage: 78.3+ KB\n",
      "None\n",
      "               Age          NS1          IgG          IgM      Outcome\n",
      "count  1000.000000  1000.000000  1000.000000  1000.000000  1000.000000\n",
      "mean     35.924000     0.519000     0.533000     0.475000     0.533000\n",
      "std      16.468437     0.499889     0.499159     0.499624     0.499159\n",
      "min       8.000000     0.000000     0.000000     0.000000     0.000000\n",
      "25%      22.000000     0.000000     0.000000     0.000000     0.000000\n",
      "50%      37.000000     1.000000     1.000000     0.000000     1.000000\n",
      "75%      50.000000     1.000000     1.000000     1.000000     1.000000\n",
      "max      65.000000     1.000000     1.000000     1.000000     1.000000\n"
     ]
    },
    {
     "data": {
      "text/html": [
       "<div>\n",
       "<style scoped>\n",
       "    .dataframe tbody tr th:only-of-type {\n",
       "        vertical-align: middle;\n",
       "    }\n",
       "\n",
       "    .dataframe tbody tr th {\n",
       "        vertical-align: top;\n",
       "    }\n",
       "\n",
       "    .dataframe thead th {\n",
       "        text-align: right;\n",
       "    }\n",
       "</style>\n",
       "<table border=\"1\" class=\"dataframe\">\n",
       "  <thead>\n",
       "    <tr style=\"text-align: right;\">\n",
       "      <th></th>\n",
       "      <th>Gender</th>\n",
       "      <th>Age</th>\n",
       "      <th>NS1</th>\n",
       "      <th>IgG</th>\n",
       "      <th>IgM</th>\n",
       "      <th>Area</th>\n",
       "      <th>AreaType</th>\n",
       "      <th>HouseType</th>\n",
       "      <th>District</th>\n",
       "      <th>Outcome</th>\n",
       "    </tr>\n",
       "  </thead>\n",
       "  <tbody>\n",
       "    <tr>\n",
       "      <th>0</th>\n",
       "      <td>Female</td>\n",
       "      <td>45</td>\n",
       "      <td>0</td>\n",
       "      <td>0</td>\n",
       "      <td>0</td>\n",
       "      <td>Mirpur</td>\n",
       "      <td>Undeveloped</td>\n",
       "      <td>Building</td>\n",
       "      <td>Dhaka</td>\n",
       "      <td>0</td>\n",
       "    </tr>\n",
       "    <tr>\n",
       "      <th>1</th>\n",
       "      <td>Male</td>\n",
       "      <td>17</td>\n",
       "      <td>0</td>\n",
       "      <td>0</td>\n",
       "      <td>1</td>\n",
       "      <td>Chawkbazar</td>\n",
       "      <td>Developed</td>\n",
       "      <td>Building</td>\n",
       "      <td>Dhaka</td>\n",
       "      <td>0</td>\n",
       "    </tr>\n",
       "    <tr>\n",
       "      <th>2</th>\n",
       "      <td>Female</td>\n",
       "      <td>29</td>\n",
       "      <td>0</td>\n",
       "      <td>0</td>\n",
       "      <td>0</td>\n",
       "      <td>Paltan</td>\n",
       "      <td>Undeveloped</td>\n",
       "      <td>Other</td>\n",
       "      <td>Dhaka</td>\n",
       "      <td>0</td>\n",
       "    </tr>\n",
       "    <tr>\n",
       "      <th>3</th>\n",
       "      <td>Female</td>\n",
       "      <td>63</td>\n",
       "      <td>1</td>\n",
       "      <td>1</td>\n",
       "      <td>0</td>\n",
       "      <td>Motijheel</td>\n",
       "      <td>Developed</td>\n",
       "      <td>Other</td>\n",
       "      <td>Dhaka</td>\n",
       "      <td>1</td>\n",
       "    </tr>\n",
       "    <tr>\n",
       "      <th>4</th>\n",
       "      <td>Male</td>\n",
       "      <td>22</td>\n",
       "      <td>0</td>\n",
       "      <td>0</td>\n",
       "      <td>0</td>\n",
       "      <td>Gendaria</td>\n",
       "      <td>Undeveloped</td>\n",
       "      <td>Building</td>\n",
       "      <td>Dhaka</td>\n",
       "      <td>0</td>\n",
       "    </tr>\n",
       "  </tbody>\n",
       "</table>\n",
       "</div>"
      ],
      "text/plain": [
       "   Gender  Age  NS1  IgG  IgM        Area     AreaType HouseType District  \\\n",
       "0  Female   45    0    0    0      Mirpur  Undeveloped  Building    Dhaka   \n",
       "1    Male   17    0    0    1  Chawkbazar    Developed  Building    Dhaka   \n",
       "2  Female   29    0    0    0      Paltan  Undeveloped     Other    Dhaka   \n",
       "3  Female   63    1    1    0   Motijheel    Developed     Other    Dhaka   \n",
       "4    Male   22    0    0    0    Gendaria  Undeveloped  Building    Dhaka   \n",
       "\n",
       "   Outcome  \n",
       "0        0  \n",
       "1        0  \n",
       "2        0  \n",
       "3        1  \n",
       "4        0  "
      ]
     },
     "execution_count": 6,
     "metadata": {},
     "output_type": "execute_result"
    }
   ],
   "source": [
    "df = pd.read_csv(\"dataset.csv\")\n",
    "print(df.info())\n",
    "print(df.describe())\n",
    "df.head()\n"
   ]
  },
  {
   "cell_type": "code",
   "execution_count": 12,
   "id": "055d1a70-462d-4621-84b9-9914a0b289af",
   "metadata": {
    "tags": []
   },
   "outputs": [],
   "source": [
    "#preprocessing\n",
    "# Example encoding\n",
    "df = pd.get_dummies(df, drop_first=True)\n",
    "\n",
    "# Fill missing values\n",
    "df.fillna(method='ffill', inplace=True)\n"
   ]
  },
  {
   "cell_type": "code",
   "execution_count": 14,
   "id": "619fb6b6-85e1-46e8-8230-75e02ec856c1",
   "metadata": {
    "tags": []
   },
   "outputs": [
    {
     "name": "stdout",
     "output_type": "stream",
     "text": [
      "Index(['Age', 'NS1', 'IgG', 'IgM', 'Outcome', 'Gender_Male', 'Area_Badda',\n",
      "       'Area_Banasree', 'Area_Bangshal', 'Area_Biman Bandar', 'Area_Bosila',\n",
      "       'Area_Cantonment', 'Area_Chawkbazar', 'Area_Demra', 'Area_Dhanmondi',\n",
      "       'Area_Gendaria', 'Area_Gulshan', 'Area_Hazaribagh', 'Area_Jatrabari',\n",
      "       'Area_Kadamtali', 'Area_Kafrul', 'Area_Kalabagan', 'Area_Kamrangirchar',\n",
      "       'Area_Keraniganj', 'Area_Khilgaon', 'Area_Khilkhet', 'Area_Lalbagh',\n",
      "       'Area_Mirpur', 'Area_Mohammadpur', 'Area_Motijheel', 'Area_New Market',\n",
      "       'Area_Pallabi', 'Area_Paltan', 'Area_Ramna', 'Area_Rampura',\n",
      "       'Area_Sabujbagh', 'Area_Shahbagh', 'Area_Sher-e-Bangla Nagar',\n",
      "       'Area_Shyampur', 'Area_Sutrapur', 'Area_Tejgaon',\n",
      "       'AreaType_Undeveloped', 'HouseType_Other', 'HouseType_Tinshed'],\n",
      "      dtype='object')\n"
     ]
    }
   ],
   "source": [
    "print(df.columns)\n"
   ]
  },
  {
   "cell_type": "code",
   "execution_count": 16,
   "id": "38d94cc1-987d-4c27-9e34-15a51dcf9870",
   "metadata": {
    "tags": []
   },
   "outputs": [],
   "source": [
    "# Define features and target\n",
    "X = df.drop('Outcome', axis=1)\n",
    "y = df['Outcome']"
   ]
  },
  {
   "cell_type": "code",
   "execution_count": 18,
   "id": "d7ff1867-3d82-4844-bf58-e8cc0feb0d69",
   "metadata": {
    "tags": []
   },
   "outputs": [],
   "source": [
    "\n",
    "# Split the data\n",
    "X_train, X_test, y_train, y_test = train_test_split(X, y, test_size=0.2, random_state=42)\n"
   ]
  },
  {
   "cell_type": "code",
   "execution_count": 7,
   "id": "c2d8b697-2e53-425c-9116-6c62475c93e5",
   "metadata": {
    "tags": []
   },
   "outputs": [
    {
     "ename": "NameError",
     "evalue": "name 'RandomForestClassifier' is not defined",
     "output_type": "error",
     "traceback": [
      "\u001b[1;31m---------------------------------------------------------------------------\u001b[0m",
      "\u001b[1;31mNameError\u001b[0m                                 Traceback (most recent call last)",
      "Cell \u001b[1;32mIn[7], line 4\u001b[0m\n\u001b[0;32m      1\u001b[0m \u001b[38;5;66;03m#Training the model\u001b[39;00m\n\u001b[0;32m      2\u001b[0m \n\u001b[0;32m      3\u001b[0m \u001b[38;5;66;03m# Initialize and train the model\u001b[39;00m\n\u001b[1;32m----> 4\u001b[0m model \u001b[38;5;241m=\u001b[39m RandomForestClassifier(random_state\u001b[38;5;241m=\u001b[39m\u001b[38;5;241m42\u001b[39m)\n\u001b[0;32m      5\u001b[0m model\u001b[38;5;241m.\u001b[39mfit(X_train, y_train)\n",
      "\u001b[1;31mNameError\u001b[0m: name 'RandomForestClassifier' is not defined"
     ]
    }
   ],
   "source": [
    "#Training the model\n",
    "\n",
    "# Initialize and train the model\n",
    "model = RandomForestClassifier(random_state=42)\n",
    "model.fit(X_train, y_train)\n"
   ]
  },
  {
   "cell_type": "code",
   "execution_count": 23,
   "id": "d3fc546b-51ce-4dcf-9f71-a435e9bc637b",
   "metadata": {
    "tags": []
   },
   "outputs": [
    {
     "name": "stdout",
     "output_type": "stream",
     "text": [
      "Confusion Matrix:\n",
      " [[ 87   0]\n",
      " [  0 113]]\n",
      "\n",
      "Classification Report:\n",
      "               precision    recall  f1-score   support\n",
      "\n",
      "           0       1.00      1.00      1.00        87\n",
      "           1       1.00      1.00      1.00       113\n",
      "\n",
      "    accuracy                           1.00       200\n",
      "   macro avg       1.00      1.00      1.00       200\n",
      "weighted avg       1.00      1.00      1.00       200\n",
      "\n",
      "Accuracy Score: 1.0\n"
     ]
    }
   ],
   "source": [
    "#Evaluating the model\n",
    "\n",
    "# Make predictions\n",
    "predictions = model.predict(X_test)\n",
    "\n",
    "# Evaluation\n",
    "print(\"Confusion Matrix:\\n\", confusion_matrix(y_test, predictions))\n",
    "print(\"\\nClassification Report:\\n\", classification_report(y_test, predictions))\n",
    "print(\"Accuracy Score:\", accuracy_score(y_test, predictions))\n"
   ]
  },
  {
   "cell_type": "code",
   "execution_count": 24,
   "id": "1af6111a-a94a-4775-b4b4-adeaf7670e5f",
   "metadata": {
    "tags": []
   },
   "outputs": [
    {
     "data": {
      "image/png": "[encoded data removed]",
      "text/plain": [
       "<Figure size 640x480 with 2 Axes>"
      ]
     },
     "metadata": {},
     "output_type": "display_data"
    }
   ],
   "source": [
    "#Visualization\n",
    "\n",
    "cm = confusion_matrix(y_test, predictions)\n",
    "sns.heatmap(cm, annot=True, fmt='d', cmap='Blues')\n",
    "plt.xlabel('Predicted')\n",
    "plt.ylabel('Actual')\n",
    "plt.title('Confusion Matrix')\n",
    "plt.show()\n"
   ]
  },
  {
   "cell_type": "markdown",
   "id": "1934b98c",
   "metadata": {},
   "source": [
    "## Ethical Reflection\n",
    "\n",
    "- **Bias & Fairness**: The dataset might contain inherent biases (e.g., overrepresentation of a particular gender or age group), which can affect model generalizability.\n",
    "- **Privacy**: Health data is sensitive; any real-world deployment should ensure data privacy and compliance with regulations like GDPR or HIPAA.\n",
    "- **Sustainability**: By helping identify health risks early, the model supports sustainable development through preventive care, reducing long-term healthcare costs.\n",
    "\n",
    "---\n"
   ]
  },
  {
   "cell_type": "markdown",
   "id": "e7265f57-b332-436b-a312-f2fe4a67b458",
   "metadata": {},
   "source": [
    "# SDG Project Summary: Predicting Health Outcomes with Machine Learning\n",
    "\n",
    "## Sustainable Development Goal (SDG):\n",
    "**SDG 3 – Good Health and Well-being**\n",
    "\n",
    "## Problem Statement:\n",
    "This project aims to support early disease detection by predicting the likelihood of a negative health outcome (e.g., diabetes or similar conditions) based on patient data. By leveraging machine learning, we can potentially enable early interventions and improve access to preventive care.\n",
    "\n",
    "## Machine Learning Approach:\n",
    "We applied a supervised learning method using a **Random Forest Classifier** to predict the binary health outcome. After preprocessing the dataset (encoding categorical variables, filling missing values), we split it into training and test sets. The model was trained and evaluated using accuracy and confusion matrix metrics.\n",
    "\n",
    "## Dataset:\n",
    "The dataset was cleaned and encoded using `pandas`. Missing values were handled with forward fill. The **\"Outcome\"** variable was used as the target.\n",
    "\n",
    "## Results:\n",
    "- **Accuracy**: 1.0 \n",
    "- **Confusion Matrix**: Indicates good performance with minimal misclassification.  \n",
    "- **Insights**: The model is capable of classifying patients’ health risk based on existing features with reasonable accuracy.\n",
    "\n",
    "## Ethical Considerations:\n",
    "- The model may reflect biases present in the dataset (e.g., underrepresentation of certain groups).\n",
    "- Care must be taken when interpreting predictions, especially in sensitive healthcare contexts.\n",
    "- Promoting fairness requires ensuring that the dataset and features are inclusive and representative of diverse populations.\n",
    "\n",
    "## Impact:\n",
    "This model supports **SDG 3** by contributing to health screening tools that can be integrated into digital health platforms, particularly in resource-constrained environments.\n"
   ]
  },
  {
   "cell_type": "code",
   "execution_count": null,
   "id": "1c130dd4-4dc1-4912-869a-73e0e3920874",
   "metadata": {},
   "outputs": [],
   "source": []
  }
 ],
 "metadata": {
  "kernelspec": {
   "display_name": "Python 3 (ipykernel)",
   "language": "python",
   "name": "python3"
  },
  "language_info": {
   "codemirror_mode": {
    "name": "ipython",
    "version": 3
   },
   "file_extension": ".py",
   "mimetype": "text/x-python",
   "name": "python",
   "nbconvert_exporter": "python",
   "pygments_lexer": "ipython3",
   "version": "3.11.5"
  }
 },
 "nbformat": 4,
 "nbformat_minor": 5
}
